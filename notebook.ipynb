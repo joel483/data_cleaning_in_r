{
 "cells": [
  {
   "cell_type": "markdown",
   "metadata": {},
   "source": [
    "# Cleaning Data in R"
   ]
  },
  {
   "cell_type": "markdown",
   "metadata": {},
   "source": [
    "## Importing the data"
   ]
  },
  {
   "cell_type": "markdown",
   "metadata": {},
   "source": [
    "The raw data is given at us in the form of a comma-separated values. It is located in _raw_housing.csv_ which is located in the current working directory We firstly need to import the data. We will use the __tidyverse__ library. __tidiverse__ library is a useful R package for Data Science."
   ]
  },
  {
   "cell_type": "code",
   "execution_count": 1,
   "metadata": {},
   "outputs": [
    {
     "name": "stderr",
     "output_type": "stream",
     "text": [
      "── Attaching packages ─────────────────────────────────────── tidyverse 1.3.0 ──\n",
      "✔ ggplot2 3.3.0     ✔ purrr   0.3.3\n",
      "✔ tibble  3.0.0     ✔ dplyr   0.8.5\n",
      "✔ tidyr   1.0.2     ✔ stringr 1.4.0\n",
      "✔ readr   1.3.1     ✔ forcats 0.4.0\n",
      "── Conflicts ────────────────────────────────────────── tidyverse_conflicts() ──\n",
      "✖ dplyr::filter() masks stats::filter()\n",
      "✖ dplyr::lag()    masks stats::lag()\n"
     ]
    }
   ],
   "source": [
    "library(tidyverse)"
   ]
  },
  {
   "cell_type": "markdown",
   "metadata": {},
   "source": [
    "We use __readr__ package, contained in the __tidyverse__ package, to automatically read the columns that contains text values to a column of type _character_. Using the R built-in _read.csv()_ function would read those columns as _factors_ R data type, which we would have to re-convert to _character_. Our data is a __tibble__, contrary to a __data frame__ that the built-in _read.csv()_ would have return. A __tibble__ makes the dataset more manipulatable for cleaning than a __data frame__ would do. Let's inspect the beginning of the dataset."
   ]
  },
  {
   "cell_type": "code",
   "execution_count": 2,
   "metadata": {},
   "outputs": [
    {
     "name": "stderr",
     "output_type": "stream",
     "text": [
      "Parsed with column specification:\n",
      "cols(\n",
      "  MLS = col_double(),\n",
      "  sold_price = col_double(),\n",
      "  zipcode = col_double(),\n",
      "  longitude = col_double(),\n",
      "  latitude = col_double(),\n",
      "  lot_acres = col_double(),\n",
      "  taxes = col_double(),\n",
      "  year_built = col_double(),\n",
      "  bedrooms = col_double(),\n",
      "  bathrooms = col_double(),\n",
      "  sqrt_ft = col_character(),\n",
      "  garage = col_character(),\n",
      "  kitchen_features = col_character(),\n",
      "  fireplaces = col_double(),\n",
      "  floor_covering = col_character(),\n",
      "  HOA = col_character()\n",
      ")\n",
      "Warning message:\n",
      "“6 parsing failures.\n",
      " row       col expected actual                                                   file\n",
      "2026 bathrooms a double   None '/home/makba/Documents/EIT/cleaning_data_in_R/raw.csv'\n",
      "2767 bathrooms a double   None '/home/makba/Documents/EIT/cleaning_data_in_R/raw.csv'\n",
      "3109 bathrooms a double   None '/home/makba/Documents/EIT/cleaning_data_in_R/raw.csv'\n",
      "3530 bathrooms a double   None '/home/makba/Documents/EIT/cleaning_data_in_R/raw.csv'\n",
      "3823 bathrooms a double   None '/home/makba/Documents/EIT/cleaning_data_in_R/raw.csv'\n",
      ".... ......... ........ ...... ......................................................\n",
      "See problems(...) for more details.\n",
      "”"
     ]
    }
   ],
   "source": [
    "path <- getwd()\n",
    "filename <- \"raw.csv\"\n",
    "fullpath <- file.path(path, filename)\n",
    "data <- read_csv(fullpath)"
   ]
  },
  {
   "cell_type": "markdown",
   "metadata": {},
   "source": [
    "We can start by having a look of the dataset shape."
   ]
  },
  {
   "cell_type": "code",
   "execution_count": 3,
   "metadata": {},
   "outputs": [
    {
     "data": {
      "text/html": [
       "5000"
      ],
      "text/latex": [
       "5000"
      ],
      "text/markdown": [
       "5000"
      ],
      "text/plain": [
       "[1] 5000"
      ]
     },
     "metadata": {},
     "output_type": "display_data"
    },
    {
     "data": {
      "text/html": [
       "16"
      ],
      "text/latex": [
       "16"
      ],
      "text/markdown": [
       "16"
      ],
      "text/plain": [
       "[1] 16"
      ]
     },
     "metadata": {},
     "output_type": "display_data"
    }
   ],
   "source": [
    "nrow(data)\n",
    "ncol(data)"
   ]
  },
  {
   "cell_type": "markdown",
   "metadata": {},
   "source": [
    "This dataset is composed of 5000 houses described with 16 variables."
   ]
  },
  {
   "cell_type": "markdown",
   "metadata": {},
   "source": [
    "We see from the console that there are 5 cells from the csv file are generating problems. As the majority of the bathrooms data are double, _read_csv()_ is expecting every cell to be of the type __double__. However, the bathrooms value at rows 2026, 2767, 3109, 3530 and 3823 is equal to None, which means that the dataset does not have information about the number of bathrooms for those houses. Let's explore those houses to see if the rest of the data is inadequate."
   ]
  },
  {
   "cell_type": "code",
   "execution_count": 4,
   "metadata": {},
   "outputs": [
    {
     "data": {
      "text/html": [
       "<table>\n",
       "<thead><tr><th scope=col>MLS</th><th scope=col>sold_price</th><th scope=col>zipcode</th><th scope=col>longitude</th><th scope=col>latitude</th><th scope=col>lot_acres</th><th scope=col>taxes</th><th scope=col>year_built</th><th scope=col>bedrooms</th><th scope=col>bathrooms</th><th scope=col>sqrt_ft</th><th scope=col>garage</th><th scope=col>kitchen_features</th><th scope=col>fireplaces</th><th scope=col>floor_covering</th><th scope=col>HOA</th></tr></thead>\n",
       "<tbody>\n",
       "\t<tr><td>3044867                                                                                                                         </td><td>660000                                                                                                                          </td><td>85614                                                                                                                           </td><td>-110.9695                                                                                                                       </td><td>31.83672                                                                                                                        </td><td>3.60                                                                                                                            </td><td>5526.00                                                                                                                         </td><td>2007                                                                                                                            </td><td>3                                                                                                                               </td><td>NA                                                                                                                              </td><td>None                                                                                                                            </td><td>3                                                                                                                               </td><td>Desk, Dishwasher, Garbage Disposal, Gas Range, Island, Lazy Susan, Pantry: Closet, Refrigerator, Water Purifier, Microwave, Oven</td><td>NA                                                                                                                              </td><td>Carpet, Other: Tile-Other                                                                                                       </td><td>1,000                                                                                                                           </td></tr>\n",
       "\t<tr><td>3042851                                                                                                                         </td><td>575000                                                                                                                          </td><td>85614                                                                                                                           </td><td>-110.9605                                                                                                                       </td><td>31.85445                                                                                                                        </td><td>0.87                                                                                                                            </td><td>4623.05                                                                                                                         </td><td>2002                                                                                                                            </td><td>3                                                                                                                               </td><td>NA                                                                                                                              </td><td>None                                                                                                                            </td><td>3                                                                                                                               </td><td>Dishwasher, Garbage Disposal, Gas Range, Island, Lazy Susan, Pantry: Butler, Refrigerator, Water Purifier, Microwave, Oven      </td><td>NA                                                                                                                              </td><td>Carpet, Other                                                                                                                   </td><td>250                                                                                                                             </td></tr>\n",
       "\t<tr><td>3047540                                                                                                                         </td><td>610000                                                                                                                          </td><td>85614                                                                                                                           </td><td>-111.0025                                                                                                                       </td><td>31.84006                                                                                                                        </td><td>1.70                                                                                                                            </td><td>3800.00                                                                                                                         </td><td>2007                                                                                                                            </td><td>3                                                                                                                               </td><td>NA                                                                                                                              </td><td>None                                                                                                                            </td><td>3                                                                                                                               </td><td>None                                                                                                                            </td><td>NA                                                                                                                              </td><td>None                                                                                                                            </td><td>1,200                                                                                                                           </td></tr>\n",
       "\t<tr><td>3047540                                                                                                                         </td><td>610000                                                                                                                          </td><td>85614                                                                                                                           </td><td>-111.0025                                                                                                                       </td><td>31.84006                                                                                                                        </td><td>1.70                                                                                                                            </td><td>3800.00                                                                                                                         </td><td>2007                                                                                                                            </td><td>3                                                                                                                               </td><td>NA                                                                                                                              </td><td>None                                                                                                                            </td><td>3                                                                                                                               </td><td>None                                                                                                                            </td><td>NA                                                                                                                              </td><td>None                                                                                                                            </td><td>1,200                                                                                                                           </td></tr>\n",
       "\t<tr><td>3046317                                                                                                                         </td><td>535000                                                                                                                          </td><td>85614                                                                                                                           </td><td>-110.9864                                                                                                                       </td><td>31.80661                                                                                                                        </td><td>4.27                                                                                                                            </td><td>3826.25                                                                                                                         </td><td>2006                                                                                                                            </td><td>2                                                                                                                               </td><td>NA                                                                                                                              </td><td>None                                                                                                                            </td><td>3                                                                                                                               </td><td>Dishwasher, Garbage Disposal, Gas Range, Island, Pantry: Butler, Refrigerator, Water Purifier                                   </td><td>NA                                                                                                                              </td><td>Carpet, Other: Tile-Other                                                                                                       </td><td>None                                                                                                                            </td></tr>\n",
       "\t<tr><td>3045347                                                                                                                         </td><td>550000                                                                                                                          </td><td>85614                                                                                                                           </td><td>-111.0088                                                                                                                       </td><td>31.84114                                                                                                                        </td><td>0.99                                                                                                                            </td><td>3702.07                                                                                                                         </td><td>2007                                                                                                                            </td><td>2                                                                                                                               </td><td>NA                                                                                                                              </td><td>None                                                                                                                            </td><td>3                                                                                                                               </td><td>Dishwasher, Garbage Disposal, Island, Lazy Susan, Pantry: Closet, Microwave                                                     </td><td>NA                                                                                                                              </td><td>Carpet, Other: Tile-Other                                                                                                       </td><td>1,200                                                                                                                           </td></tr>\n",
       "</tbody>\n",
       "</table>\n"
      ],
      "text/latex": [
       "\\begin{tabular}{r|llllllllllllllll}\n",
       " MLS & sold\\_price & zipcode & longitude & latitude & lot\\_acres & taxes & year\\_built & bedrooms & bathrooms & sqrt\\_ft & garage & kitchen\\_features & fireplaces & floor\\_covering & HOA\\\\\n",
       "\\hline\n",
       "\t 3044867                                                                                                                          & 660000                                                                                                                           & 85614                                                                                                                            & -110.9695                                                                                                                        & 31.83672                                                                                                                         & 3.60                                                                                                                             & 5526.00                                                                                                                          & 2007                                                                                                                             & 3                                                                                                                                & NA                                                                                                                               & None                                                                                                                             & 3                                                                                                                                & Desk, Dishwasher, Garbage Disposal, Gas Range, Island, Lazy Susan, Pantry: Closet, Refrigerator, Water Purifier, Microwave, Oven & NA                                                                                                                               & Carpet, Other: Tile-Other                                                                                                        & 1,000                                                                                                                           \\\\\n",
       "\t 3042851                                                                                                                          & 575000                                                                                                                           & 85614                                                                                                                            & -110.9605                                                                                                                        & 31.85445                                                                                                                         & 0.87                                                                                                                             & 4623.05                                                                                                                          & 2002                                                                                                                             & 3                                                                                                                                & NA                                                                                                                               & None                                                                                                                             & 3                                                                                                                                & Dishwasher, Garbage Disposal, Gas Range, Island, Lazy Susan, Pantry: Butler, Refrigerator, Water Purifier, Microwave, Oven       & NA                                                                                                                               & Carpet, Other                                                                                                                    & 250                                                                                                                             \\\\\n",
       "\t 3047540                                                                                                                          & 610000                                                                                                                           & 85614                                                                                                                            & -111.0025                                                                                                                        & 31.84006                                                                                                                         & 1.70                                                                                                                             & 3800.00                                                                                                                          & 2007                                                                                                                             & 3                                                                                                                                & NA                                                                                                                               & None                                                                                                                             & 3                                                                                                                                & None                                                                                                                             & NA                                                                                                                               & None                                                                                                                             & 1,200                                                                                                                           \\\\\n",
       "\t 3047540                                                                                                                          & 610000                                                                                                                           & 85614                                                                                                                            & -111.0025                                                                                                                        & 31.84006                                                                                                                         & 1.70                                                                                                                             & 3800.00                                                                                                                          & 2007                                                                                                                             & 3                                                                                                                                & NA                                                                                                                               & None                                                                                                                             & 3                                                                                                                                & None                                                                                                                             & NA                                                                                                                               & None                                                                                                                             & 1,200                                                                                                                           \\\\\n",
       "\t 3046317                                                                                                                          & 535000                                                                                                                           & 85614                                                                                                                            & -110.9864                                                                                                                        & 31.80661                                                                                                                         & 4.27                                                                                                                             & 3826.25                                                                                                                          & 2006                                                                                                                             & 2                                                                                                                                & NA                                                                                                                               & None                                                                                                                             & 3                                                                                                                                & Dishwasher, Garbage Disposal, Gas Range, Island, Pantry: Butler, Refrigerator, Water Purifier                                    & NA                                                                                                                               & Carpet, Other: Tile-Other                                                                                                        & None                                                                                                                            \\\\\n",
       "\t 3045347                                                                                                                          & 550000                                                                                                                           & 85614                                                                                                                            & -111.0088                                                                                                                        & 31.84114                                                                                                                         & 0.99                                                                                                                             & 3702.07                                                                                                                          & 2007                                                                                                                             & 2                                                                                                                                & NA                                                                                                                               & None                                                                                                                             & 3                                                                                                                                & Dishwasher, Garbage Disposal, Island, Lazy Susan, Pantry: Closet, Microwave                                                      & NA                                                                                                                               & Carpet, Other: Tile-Other                                                                                                        & 1,200                                                                                                                           \\\\\n",
       "\\end{tabular}\n"
      ],
      "text/markdown": [
       "\n",
       "| MLS | sold_price | zipcode | longitude | latitude | lot_acres | taxes | year_built | bedrooms | bathrooms | sqrt_ft | garage | kitchen_features | fireplaces | floor_covering | HOA |\n",
       "|---|---|---|---|---|---|---|---|---|---|---|---|---|---|---|---|\n",
       "| 3044867                                                                                                                          | 660000                                                                                                                           | 85614                                                                                                                            | -110.9695                                                                                                                        | 31.83672                                                                                                                         | 3.60                                                                                                                             | 5526.00                                                                                                                          | 2007                                                                                                                             | 3                                                                                                                                | NA                                                                                                                               | None                                                                                                                             | 3                                                                                                                                | Desk, Dishwasher, Garbage Disposal, Gas Range, Island, Lazy Susan, Pantry: Closet, Refrigerator, Water Purifier, Microwave, Oven | NA                                                                                                                               | Carpet, Other: Tile-Other                                                                                                        | 1,000                                                                                                                            |\n",
       "| 3042851                                                                                                                          | 575000                                                                                                                           | 85614                                                                                                                            | -110.9605                                                                                                                        | 31.85445                                                                                                                         | 0.87                                                                                                                             | 4623.05                                                                                                                          | 2002                                                                                                                             | 3                                                                                                                                | NA                                                                                                                               | None                                                                                                                             | 3                                                                                                                                | Dishwasher, Garbage Disposal, Gas Range, Island, Lazy Susan, Pantry: Butler, Refrigerator, Water Purifier, Microwave, Oven       | NA                                                                                                                               | Carpet, Other                                                                                                                    | 250                                                                                                                              |\n",
       "| 3047540                                                                                                                          | 610000                                                                                                                           | 85614                                                                                                                            | -111.0025                                                                                                                        | 31.84006                                                                                                                         | 1.70                                                                                                                             | 3800.00                                                                                                                          | 2007                                                                                                                             | 3                                                                                                                                | NA                                                                                                                               | None                                                                                                                             | 3                                                                                                                                | None                                                                                                                             | NA                                                                                                                               | None                                                                                                                             | 1,200                                                                                                                            |\n",
       "| 3047540                                                                                                                          | 610000                                                                                                                           | 85614                                                                                                                            | -111.0025                                                                                                                        | 31.84006                                                                                                                         | 1.70                                                                                                                             | 3800.00                                                                                                                          | 2007                                                                                                                             | 3                                                                                                                                | NA                                                                                                                               | None                                                                                                                             | 3                                                                                                                                | None                                                                                                                             | NA                                                                                                                               | None                                                                                                                             | 1,200                                                                                                                            |\n",
       "| 3046317                                                                                                                          | 535000                                                                                                                           | 85614                                                                                                                            | -110.9864                                                                                                                        | 31.80661                                                                                                                         | 4.27                                                                                                                             | 3826.25                                                                                                                          | 2006                                                                                                                             | 2                                                                                                                                | NA                                                                                                                               | None                                                                                                                             | 3                                                                                                                                | Dishwasher, Garbage Disposal, Gas Range, Island, Pantry: Butler, Refrigerator, Water Purifier                                    | NA                                                                                                                               | Carpet, Other: Tile-Other                                                                                                        | None                                                                                                                             |\n",
       "| 3045347                                                                                                                          | 550000                                                                                                                           | 85614                                                                                                                            | -111.0088                                                                                                                        | 31.84114                                                                                                                         | 0.99                                                                                                                             | 3702.07                                                                                                                          | 2007                                                                                                                             | 2                                                                                                                                | NA                                                                                                                               | None                                                                                                                             | 3                                                                                                                                | Dishwasher, Garbage Disposal, Island, Lazy Susan, Pantry: Closet, Microwave                                                      | NA                                                                                                                               | Carpet, Other: Tile-Other                                                                                                        | 1,200                                                                                                                            |\n",
       "\n"
      ],
      "text/plain": [
       "  MLS     sold_price zipcode longitude latitude lot_acres taxes   year_built\n",
       "1 3044867 660000     85614   -110.9695 31.83672 3.60      5526.00 2007      \n",
       "2 3042851 575000     85614   -110.9605 31.85445 0.87      4623.05 2002      \n",
       "3 3047540 610000     85614   -111.0025 31.84006 1.70      3800.00 2007      \n",
       "4 3047540 610000     85614   -111.0025 31.84006 1.70      3800.00 2007      \n",
       "5 3046317 535000     85614   -110.9864 31.80661 4.27      3826.25 2006      \n",
       "6 3045347 550000     85614   -111.0088 31.84114 0.99      3702.07 2007      \n",
       "  bedrooms bathrooms sqrt_ft garage\n",
       "1 3        NA        None    3     \n",
       "2 3        NA        None    3     \n",
       "3 3        NA        None    3     \n",
       "4 3        NA        None    3     \n",
       "5 2        NA        None    3     \n",
       "6 2        NA        None    3     \n",
       "  kitchen_features                                                                                                                \n",
       "1 Desk, Dishwasher, Garbage Disposal, Gas Range, Island, Lazy Susan, Pantry: Closet, Refrigerator, Water Purifier, Microwave, Oven\n",
       "2 Dishwasher, Garbage Disposal, Gas Range, Island, Lazy Susan, Pantry: Butler, Refrigerator, Water Purifier, Microwave, Oven      \n",
       "3 None                                                                                                                            \n",
       "4 None                                                                                                                            \n",
       "5 Dishwasher, Garbage Disposal, Gas Range, Island, Pantry: Butler, Refrigerator, Water Purifier                                   \n",
       "6 Dishwasher, Garbage Disposal, Island, Lazy Susan, Pantry: Closet, Microwave                                                     \n",
       "  fireplaces floor_covering            HOA  \n",
       "1 NA         Carpet, Other: Tile-Other 1,000\n",
       "2 NA         Carpet, Other             250  \n",
       "3 NA         None                      1,200\n",
       "4 NA         None                      1,200\n",
       "5 NA         Carpet, Other: Tile-Other None \n",
       "6 NA         Carpet, Other: Tile-Other 1,200"
      ]
     },
     "metadata": {},
     "output_type": "display_data"
    }
   ],
   "source": [
    "houses_no_bathrooms <- data[2026,]\n",
    "houses_no_bathrooms <- add_row(houses_no_bathrooms,data[2767,])\n",
    "houses_no_bathrooms <- add_row(houses_no_bathrooms,data[3109,])\n",
    "houses_no_bathrooms <- add_row(houses_no_bathrooms,data[3109,])\n",
    "houses_no_bathrooms <- add_row(houses_no_bathrooms,data[3530,])\n",
    "houses_no_bathrooms <- add_row(houses_no_bathrooms,data[3823,])\n",
    "houses_no_bathrooms"
   ]
  },
  {
   "cell_type": "markdown",
   "metadata": {},
   "source": [
    "Because each columns are composed of only one variable and each row a house, the dataset is in the form of tidy data and not wide data. Thus, we don't have to reshape the data and we can use the structure of the dataset of the original file."
   ]
  },
  {
   "cell_type": "markdown",
   "metadata": {},
   "source": [
    "We see that the bathrooms column is not the only one problematic. _sqrt_ft_ and _fireplaces_ are populated with __NA__ for those 6 houses. _kitchen_features_, _floor_covering_ and HOA have some None value too. Those ones were not prompted by warnings from the console, because _read_csv()_ considered them as being __character__ columns. __HOA__ should be of numeric type and not __character__. Having commas for the values of it misinterpreted them as none numeric values. Therefore, from this subset, we see that multiple variables should be inspected and cleaned. Let's start with __bathrooms__."
   ]
  },
  {
   "cell_type": "markdown",
   "metadata": {},
   "source": [
    "## Removing outliers"
   ]
  },
  {
   "cell_type": "markdown",
   "metadata": {},
   "source": [
    "For the sold price, we need to make sure that the values are numeric, that there is no NAs and that there is no negative values."
   ]
  },
  {
   "cell_type": "code",
   "execution_count": 5,
   "metadata": {},
   "outputs": [
    {
     "data": {
      "text/html": [
       "'numeric'"
      ],
      "text/latex": [
       "'numeric'"
      ],
      "text/markdown": [
       "'numeric'"
      ],
      "text/plain": [
       "[1] \"numeric\""
      ]
     },
     "metadata": {},
     "output_type": "display_data"
    }
   ],
   "source": [
    "class(data$sold_price)"
   ]
  },
  {
   "cell_type": "code",
   "execution_count": 6,
   "metadata": {},
   "outputs": [
    {
     "data": {
      "text/html": [
       "0"
      ],
      "text/latex": [
       "0"
      ],
      "text/markdown": [
       "0"
      ],
      "text/plain": [
       "[1] 0"
      ]
     },
     "metadata": {},
     "output_type": "display_data"
    }
   ],
   "source": [
    "nrow(filter(data, is.na(data$sold_price)))"
   ]
  },
  {
   "cell_type": "code",
   "execution_count": 7,
   "metadata": {},
   "outputs": [
    {
     "data": {
      "text/html": [
       "0"
      ],
      "text/latex": [
       "0"
      ],
      "text/markdown": [
       "0"
      ],
      "text/plain": [
       "[1] 0"
      ]
     },
     "metadata": {},
     "output_type": "display_data"
    }
   ],
   "source": [
    "nrow(filter(data, data$sold_price <= 0))"
   ]
  },
  {
   "cell_type": "markdown",
   "metadata": {},
   "source": [
    "The sold price will be the main variable of interest for a lot of analysis. We should then use this variable to remove outliers. We start by drawing a boxplot."
   ]
  },
  {
   "cell_type": "code",
   "execution_count": 8,
   "metadata": {},
   "outputs": [],
   "source": [
    "k_scale <- data$sold_price/1000000"
   ]
  },
  {
   "cell_type": "code",
   "execution_count": 9,
   "metadata": {},
   "outputs": [
    {
     "data": {
      "image/png": "[encoded data removed]",
      "text/plain": [
       "Plot with title “Sold price distribution of houses”"
      ]
     },
     "metadata": {},
     "output_type": "display_data"
    }
   ],
   "source": [
    "hist(k_scale, \n",
    "     main=\"Sold price distribution of houses\",\n",
    "     xlab=\"Sold price (M$)\",\n",
    "     ylab=\"# of houses\",\n",
    "     border=\"black\",\n",
    "     col=\"red\"\n",
    "     )"
   ]
  },
  {
   "cell_type": "code",
   "execution_count": 10,
   "metadata": {},
   "outputs": [
    {
     "data": {
      "image/png": "[encoded data removed]",
      "text/plain": [
       "Plot with title “Sold price distribution of houses”"
      ]
     },
     "metadata": {},
     "output_type": "display_data"
    }
   ],
   "source": [
    "boxplot( k_scale,\n",
    "         main=\"Sold price distribution of houses\",\n",
    "         ylab=\"Sold price (M$)\",\n",
    "         border=\"black\",\n",
    "         col=\"red\"\n",
    "        )"
   ]
  },
  {
   "cell_type": "markdown",
   "metadata": {},
   "source": [
    "There seems to be a lot of outliers (a lot of houses are above or below  the 75% upper quartile and 25% lower quartile. In R, we can get the outliers with the variable $out from the boxplot. And remove them from our dataset replot the diagrams to see if it worked correctly."
   ]
  },
  {
   "cell_type": "code",
   "execution_count": 11,
   "metadata": {},
   "outputs": [
    {
     "data": {
      "image/png": "[encoded data removed]",
      "text/plain": [
       "Plot with title “Sold price distribution of houses”"
      ]
     },
     "metadata": {},
     "output_type": "display_data"
    }
   ],
   "source": [
    "outliers <- boxplot(data$sold_price, plot=FALSE)$out\n",
    "data <- data[-which(data$sold_price %in% outliers),]\n",
    "outliers <- boxplot(data$sold_price, plot=FALSE)$out\n",
    "data <- data[-which(data$sold_price %in% outliers),]\n",
    "outliers <- boxplot(data$sold_price, plot=FALSE)$out\n",
    "data <- data[-which(data$sold_price %in% outliers),]\n",
    "outliers <- boxplot(data$sold_price, plot=FALSE)$out\n",
    "data <- data[-which(data$sold_price %in% outliers),]\n",
    "outliers <- boxplot(data$sold_price, plot=FALSE)$out\n",
    "data <- data[-which(data$sold_price %in% outliers),]\n",
    "outliers <- boxplot(data$sold_price, plot=FALSE)$out\n",
    "data <- data[-which(data$sold_price %in% outliers),]\n",
    "k_scale <- data$sold_price/100000\n",
    "boxplot(k_scale,\n",
    "         main=\"Sold price distribution of houses\",\n",
    "         ylab=\"Sold price (M$)\",\n",
    "         border=\"black\",\n",
    "         col=\"red\")"
   ]
  },
  {
   "cell_type": "code",
   "execution_count": 12,
   "metadata": {},
   "outputs": [
    {
     "data": {
      "image/png": "[encoded data removed]",
      "text/plain": [
       "Plot with title “Sold price distribution of houses”"
      ]
     },
     "metadata": {},
     "output_type": "display_data"
    }
   ],
   "source": [
    "hist(k_scale, \n",
    "     main=\"Sold price distribution of houses\",\n",
    "     xlab=\"Sold price ($)\",\n",
    "     ylab=\"# of houses\",\n",
    "     border=\"black\",\n",
    "     col=\"red\"\n",
    "     )"
   ]
  },
  {
   "cell_type": "markdown",
   "metadata": {},
   "source": [
    "The sold price distribution is now more of a normal shape."
   ]
  },
  {
   "cell_type": "markdown",
   "metadata": {},
   "source": [
    "## Cleaning bathrooms"
   ]
  },
  {
   "cell_type": "markdown",
   "metadata": {},
   "source": [
    "There are only 5 houses with no information about the number of bathrooms. However, we have a lot of the information about the other variables available. Thus, we can choose to not discard those houses from the dataset, but fix a value to the number of bathrooms they have. This process is adding bias to our dataset, but as we want a clean dataset for our analysis, it is worth the change. As we can guess that the number of bathrooms is proportial to the number of bedrooms, we can imputate the missing values with the mean number of bathrooms for the house with same number of bedrooms. We see that the missing values are for houses with 2 and 3 bedrooms. We then need to create two subsets; one composed of the houses with 2 bedrooms and another with the houses of 3 bedrooms."
   ]
  },
  {
   "cell_type": "code",
   "execution_count": 13,
   "metadata": {},
   "outputs": [
    {
     "data": {
      "text/html": [
       "2.84375"
      ],
      "text/latex": [
       "2.84375"
      ],
      "text/markdown": [
       "2.84375"
      ],
      "text/plain": [
       "[1] 2.84375"
      ]
     },
     "metadata": {},
     "output_type": "display_data"
    },
    {
     "data": {
      "text/html": [
       "3.27921568627451"
      ],
      "text/latex": [
       "3.27921568627451"
      ],
      "text/markdown": [
       "3.27921568627451"
      ],
      "text/plain": [
       "[1] 3.279216"
      ]
     },
     "metadata": {},
     "output_type": "display_data"
    }
   ],
   "source": [
    "houses_2_bedrooms <- filter(data, bedrooms == 2)\n",
    "houses_3_bedrooms <- filter(data, bedrooms == 3)\n",
    "mean_bathrooms_2_bedrooms <- mean(houses_2_bedrooms$bathrooms, na.rm=TRUE)\n",
    "mean_bathrooms_3_bedrooms <- mean(houses_3_bedrooms$bathrooms, na.rm=TRUE)\n",
    "mean_bathrooms_2_bedrooms\n",
    "mean_bathrooms_3_bedrooms"
   ]
  },
  {
   "cell_type": "code",
   "execution_count": 14,
   "metadata": {},
   "outputs": [
    {
     "ename": "ERROR",
     "evalue": "Error in parse(text = x, srcfile = src): <text>:1:66: unexpected ')'\n1: p_value <- cor(data$bedrooms[!is.na(data$bedrooms),data$bathrooms)\n                                                                     ^\n",
     "output_type": "error",
     "traceback": [
      "Error in parse(text = x, srcfile = src): <text>:1:66: unexpected ')'\n1: p_value <- cor(data$bedrooms[!is.na(data$bedrooms),data$bathrooms)\n                                                                     ^\nTraceback:\n"
     ]
    }
   ],
   "source": [
    "p_value <- cor(data$bedrooms[!is.na(data$bedrooms),data$bathrooms)\n",
    "p_value"
   ]
  },
  {
   "cell_type": "markdown",
   "metadata": {},
   "source": [
    "The number of bathrooms need to be an integer. Thus, we can round the means to 3 and clean the missing values assuming the houses have 3 values."
   ]
  },
  {
   "cell_type": "code",
   "execution_count": null,
   "metadata": {},
   "outputs": [],
   "source": [
    "data <- data %>% mutate(bathrooms = replace_na(bathrooms, 3))\n",
    "houses_no_bathrooms <- data[2026,]\n",
    "houses_no_bathrooms <- add_row(houses_no_bathrooms,data[2767,])\n",
    "houses_no_bathrooms <- add_row(houses_no_bathrooms,data[3109,])\n",
    "houses_no_bathrooms <- add_row(houses_no_bathrooms,data[3109,])\n",
    "houses_no_bathrooms <- add_row(houses_no_bathrooms,data[3530,])\n",
    "houses_no_bathrooms <- add_row(houses_no_bathrooms,data[3823,])"
   ]
  },
  {
   "cell_type": "markdown",
   "metadata": {},
   "source": [
    "Let's make sure too that our data is numeric."
   ]
  },
  {
   "cell_type": "code",
   "execution_count": null,
   "metadata": {},
   "outputs": [],
   "source": [
    "class(data$bathrooms)"
   ]
  },
  {
   "cell_type": "markdown",
   "metadata": {},
   "source": [
    "## Cleaning fireplaces"
   ]
  },
  {
   "cell_type": "markdown",
   "metadata": {},
   "source": [
    "We saw that there is at least 6 houses that do not have data about fireplaces. Let's look how many houses we have without this information. "
   ]
  },
  {
   "cell_type": "code",
   "execution_count": null,
   "metadata": {},
   "outputs": [],
   "source": [
    "fireplaces <- data$fireplaces\n",
    "class(fireplaces)"
   ]
  },
  {
   "cell_type": "code",
   "execution_count": null,
   "metadata": {},
   "outputs": [],
   "source": [
    "fireplaces_na <- filter(data, is.na(fireplaces))"
   ]
  },
  {
   "cell_type": "code",
   "execution_count": null,
   "metadata": {},
   "outputs": [],
   "source": [
    "print(paste('Number of houses without fireplaces data: ', nrow(fireplaces_na)))"
   ]
  },
  {
   "cell_type": "markdown",
   "metadata": {},
   "source": [
    "Like for the bathrooms, there is not a big proportion of houses that do not have fireplaces data. In contrary to the bathrooms, it is difficult to link the influence of another variable to the fact that an house has a fireplace or not. We then can not rely on another feature to base a mean value and imputate with it. We will compute the mean of fireplaces of all the houses and use this value to imputate."
   ]
  },
  {
   "cell_type": "code",
   "execution_count": null,
   "metadata": {},
   "outputs": [],
   "source": [
    "mean_fireplaces <- mean(data$fireplaces, na.rm = TRUE)\n",
    "mean_fireplaces"
   ]
  },
  {
   "cell_type": "markdown",
   "metadata": {},
   "source": [
    "Surprisingly, there is an average of around 2 fireplaces by house. We might want to check if there is a correlation with the year that the house were built, as we might think that older houses have a bigger chance to have a fireplace."
   ]
  },
  {
   "cell_type": "code",
   "execution_count": null,
   "metadata": {},
   "outputs": [],
   "source": [
    "galton_heights <- data %>% select(year_built, fireplaces)"
   ]
  },
  {
   "cell_type": "code",
   "execution_count": null,
   "metadata": {},
   "outputs": [],
   "source": [
    "galton_heights %>% summarize(mean(year_built), sd(year_built), mean(fireplaces, na.rm=TRUE), sd(fireplaces, na.rm=TRUE))"
   ]
  },
  {
   "cell_type": "code",
   "execution_count": null,
   "metadata": {},
   "outputs": [],
   "source": [
    "galton_heights %>% ggplot(aes(year_built, fireplaces)) + geom_point(alpha=0.5)"
   ]
  },
  {
   "cell_type": "markdown",
   "metadata": {},
   "source": [
    "Unfortunately, we can see from the last graph that there are some house in our dataset that has a built year equal to 0. We will clean this column before going further in our correlation analysis."
   ]
  },
  {
   "cell_type": "markdown",
   "metadata": {},
   "source": [
    "## Cleaning year built"
   ]
  },
  {
   "cell_type": "code",
   "execution_count": null,
   "metadata": {},
   "outputs": [],
   "source": [
    "class(data$year_built)"
   ]
  },
  {
   "cell_type": "markdown",
   "metadata": {},
   "source": [
    "The oldest house in USA is Fairbanks House, built between 1637 - 1641. We can use 1637 has a threshold for the year built of the house."
   ]
  },
  {
   "cell_type": "code",
   "execution_count": null,
   "metadata": {},
   "outputs": [],
   "source": [
    "year_built_0 <- filter(data, data$year_built < 1637)\n",
    "year_built_0"
   ]
  },
  {
   "cell_type": "markdown",
   "metadata": {},
   "source": [
    "We might want to discard those 5 houses with year 0, but because we have the rest of the information for the other variables, it might be good to keep them but imputate the year_built. Let's imputate with the mean."
   ]
  },
  {
   "cell_type": "code",
   "execution_count": null,
   "metadata": {},
   "outputs": [],
   "source": [
    "year_built_non_zero <- filter(data, data$year_built > 0)\n",
    "summary(year_built_non_zero$year_built)"
   ]
  },
  {
   "cell_type": "markdown",
   "metadata": {},
   "source": [
    "Let's substitute the houses' year built of 0 to 1994."
   ]
  },
  {
   "cell_type": "code",
   "execution_count": null,
   "metadata": {},
   "outputs": [],
   "source": [
    "data$year_built[data$year_built == 0] <- 1994"
   ]
  },
  {
   "cell_type": "markdown",
   "metadata": {},
   "source": [
    "And make sure that there is no year built of 0."
   ]
  },
  {
   "cell_type": "code",
   "execution_count": null,
   "metadata": {},
   "outputs": [],
   "source": [
    "nrow(filter(data, data$year_built == 0))"
   ]
  },
  {
   "cell_type": "code",
   "execution_count": null,
   "metadata": {},
   "outputs": [],
   "source": [
    "known_fireplaces <- subset(data, !is.na(fireplaces))\n",
    "random_subset <- data[-sample(1:nrow(data), 25), ]\n",
    "p_value <- cor(random_subset$year_built, known_fireplaces$fireplaces)\n",
    "p_value"
   ]
  },
  {
   "cell_type": "markdown",
   "metadata": {},
   "source": [
    "Because the p-value is really close to 0, we can not assume that there is a correlation betwwen the year built and the number of fireplaces. 2 fireplaces per house looks a little high. From a reference of Statista, the majority of the houses that have one or more fireplaces have one (https://www.statista.com/statistics/943717/us-fireplaces-in-single-family-homes/). To clean our data of fireplaces, let's then use 1 instead of 2 (the rounded result of the mean). That shows us that adding data can help make better assumptions."
   ]
  },
  {
   "cell_type": "markdown",
   "metadata": {},
   "source": [
    "### Recleaning fireplaces"
   ]
  },
  {
   "cell_type": "code",
   "execution_count": null,
   "metadata": {},
   "outputs": [],
   "source": [
    "data$fireplaces[is.na(data$fireplaces)] <- 1"
   ]
  },
  {
   "cell_type": "code",
   "execution_count": null,
   "metadata": {},
   "outputs": [],
   "source": [
    "nrow(filter(data, is.na(data$fireplaces == 0)))"
   ]
  },
  {
   "cell_type": "markdown",
   "metadata": {},
   "source": [
    "## Cleaning HOA"
   ]
  },
  {
   "cell_type": "markdown",
   "metadata": {},
   "source": [
    "The HOA column has some number with the thousands separated by commas. We can confirm that by looking at the class of the HOA column. It should be __character__."
   ]
  },
  {
   "cell_type": "code",
   "execution_count": null,
   "metadata": {},
   "outputs": [],
   "source": [
    "class(data$HOA)"
   ]
  },
  {
   "cell_type": "markdown",
   "metadata": {},
   "source": [
    "We need to convert those values to numeric values. With the next line of code, the _None_ values will be converted to _NA_."
   ]
  },
  {
   "cell_type": "code",
   "execution_count": null,
   "metadata": {},
   "outputs": [],
   "source": [
    "data$HOA <- as.numeric(gsub(\",\", \"\", as.character(data$HOA)))"
   ]
  },
  {
   "cell_type": "code",
   "execution_count": null,
   "metadata": {},
   "outputs": [],
   "source": [
    "class(data$HOA)"
   ]
  },
  {
   "cell_type": "code",
   "execution_count": null,
   "metadata": {},
   "outputs": [],
   "source": [
    "HOA_na <- filter(data, is.na(data$HOA))\n",
    "nrow(HOA_na)"
   ]
  },
  {
   "cell_type": "markdown",
   "metadata": {},
   "source": [
    "There are too much rows to discard them. We will use the mean to imputate it, but we should take note that ~10% of the HOA values have been imputated. Therefore, when one is analysing the data, he has to be careful when using the HOA. The marge of error when using this variable is augmenting, as we are using a lot of imputated data."
   ]
  },
  {
   "cell_type": "code",
   "execution_count": null,
   "metadata": {},
   "outputs": [],
   "source": [
    "HOA_not_na <- filter(data, !is.na(data$HOA))\n",
    "summary(HOA_not_na$HOA)"
   ]
  },
  {
   "cell_type": "code",
   "execution_count": null,
   "metadata": {},
   "outputs": [],
   "source": [
    "data$HOA[is.na(data$HOA)] <- 78.09"
   ]
  },
  {
   "cell_type": "code",
   "execution_count": null,
   "metadata": {},
   "outputs": [],
   "source": [
    "nrow(filter(data, is.na(data$HOA)))"
   ]
  },
  {
   "cell_type": "markdown",
   "metadata": {},
   "source": [
    "## MLS"
   ]
  },
  {
   "cell_type": "markdown",
   "metadata": {},
   "source": [
    "In real estate, MLS can be considered as a unique identifier for an house for sale. Thus, for this variable, we need to make sure that this none None values or values of 0."
   ]
  },
  {
   "cell_type": "code",
   "execution_count": null,
   "metadata": {},
   "outputs": [],
   "source": [
    "class(data$MLS)"
   ]
  },
  {
   "cell_type": "code",
   "execution_count": null,
   "metadata": {},
   "outputs": [],
   "source": [
    "nrow(filter(data, is.na(data$MLS)))"
   ]
  },
  {
   "cell_type": "markdown",
   "metadata": {},
   "source": [
    "## Zip code"
   ]
  },
  {
   "cell_type": "code",
   "execution_count": null,
   "metadata": {},
   "outputs": [],
   "source": [
    "class(data$zipcode)"
   ]
  },
  {
   "cell_type": "code",
   "execution_count": null,
   "metadata": {},
   "outputs": [],
   "source": [
    "nrow(filter(data, is.na(data$zipcode)))"
   ]
  },
  {
   "cell_type": "markdown",
   "metadata": {},
   "source": [
    "An US zip code is a 5-digit number. We can do this in R with a regular expression."
   ]
  },
  {
   "cell_type": "code",
   "execution_count": null,
   "metadata": {},
   "outputs": [],
   "source": [
    "zipcodes <- data$zipcode\n",
    "for(i in 1:length(zipcodes)){\n",
    "    zipcodes[i] <- sub('.*_(\\\\d{5})_.*', '\\\\1', zipcodes[i])\n",
    "}"
   ]
  },
  {
   "cell_type": "markdown",
   "metadata": {},
   "source": [
    "And then look if the column stays the same."
   ]
  },
  {
   "cell_type": "code",
   "execution_count": null,
   "metadata": {},
   "outputs": [],
   "source": [
    "setdiff(data$zipcode, zipcodes)"
   ]
  },
  {
   "cell_type": "markdown",
   "metadata": {},
   "source": [
    "There is no difference between both, so the MLS values are 5-digit numbers."
   ]
  },
  {
   "cell_type": "markdown",
   "metadata": {},
   "source": [
    "## Longitute and latitude"
   ]
  },
  {
   "cell_type": "markdown",
   "metadata": {},
   "source": [
    "We expect the longitude and the latitude to be numeric values (can be negative) without NAs and not equal to 0."
   ]
  },
  {
   "cell_type": "code",
   "execution_count": null,
   "metadata": {},
   "outputs": [],
   "source": [
    "class(data$longitude)\n",
    "class(data$latitude)\n",
    "nrow(filter(data, is.na(data$longitude)))\n",
    "nrow(filter(data, is.na(data$latitude)))\n",
    "nrow(filter(data, data$longitude == 0))\n",
    "nrow(filter(data, data$latitude == 0))"
   ]
  },
  {
   "cell_type": "markdown",
   "metadata": {},
   "source": [
    "## Houses location"
   ]
  },
  {
   "cell_type": "markdown",
   "metadata": {},
   "source": [
    "For real estate, the sold price can strongly depend on the location. It is then pertinent to look if the houses of the dataset are in the same area. We can use the R package __revgeo__ to find the location of the houses by the latitude and longitude columns. It will make API calls to __photon__, an open source geocoder."
   ]
  },
  {
   "cell_type": "code",
   "execution_count": null,
   "metadata": {},
   "outputs": [],
   "source": [
    "install.packages('revgeo')"
   ]
  },
  {
   "cell_type": "code",
   "execution_count": null,
   "metadata": {},
   "outputs": [],
   "source": [
    "# library(revgeo)\n",
    "# start_time <- Sys.time()\n",
    "# cities <- revgeo(data$longitude, data$latitude, provider =  'photon', output = 'frame')\n",
    "# end_time <- Sys.time()\n",
    "# filename_locations <- \"locations.csv\"\n",
    "# fullpath_locations <- file.path(path, filename_locations)\n",
    "# write.csv(cities, fullpath_locations)\n",
    "# fullpath_locations\n",
    "# end_time - start_time"
   ]
  },
  {
   "cell_type": "markdown",
   "metadata": {},
   "source": [
    "The last piece of code is commented as it can take more than 2 hours to execute. However, the locations data have been saved in locations.csv. This data is not all clean, but we can see that 100% of the states from the data we have (API has a limit of calls) is Arizona. Thus, we can use the mean of the taxes of other houses to clean the taxes column. "
   ]
  },
  {
   "cell_type": "markdown",
   "metadata": {},
   "source": [
    "## Cleaning taxes"
   ]
  },
  {
   "cell_type": "markdown",
   "metadata": {},
   "source": [
    "We expect the taxes to be a positive numeric data without NAs and not equal to 0."
   ]
  },
  {
   "cell_type": "code",
   "execution_count": null,
   "metadata": {},
   "outputs": [],
   "source": [
    "class(data$taxes)\n",
    "nrow(filter(data, is.na(data$taxes)))\n",
    "nrow(filter(data, data$taxes < 0))\n",
    "nrow(filter(data, data$taxes == 0))"
   ]
  },
  {
   "cell_type": "markdown",
   "metadata": {},
   "source": [
    "There are 22 values that we need to change. We will impute them with the mean."
   ]
  },
  {
   "cell_type": "code",
   "execution_count": null,
   "metadata": {},
   "outputs": [],
   "source": [
    "summary(data$taxes[!is.na(data$taxes)])"
   ]
  },
  {
   "cell_type": "code",
   "execution_count": null,
   "metadata": {},
   "outputs": [],
   "source": [
    "data$taxes[data$taxes == 0] <- 6323"
   ]
  },
  {
   "cell_type": "markdown",
   "metadata": {},
   "source": [
    "## Cleaning lot of acres"
   ]
  },
  {
   "cell_type": "markdown",
   "metadata": {},
   "source": [
    "We expect the lot of acres to be a positive numeric data without NAs and to not be equal to zero. However, a value of zero."
   ]
  },
  {
   "cell_type": "code",
   "execution_count": null,
   "metadata": {},
   "outputs": [],
   "source": [
    "class(data$lot_acres)"
   ]
  },
  {
   "cell_type": "code",
   "execution_count": null,
   "metadata": {},
   "outputs": [],
   "source": [
    "nrow(filter(data, is.na(data$lot_acres)))"
   ]
  },
  {
   "cell_type": "code",
   "execution_count": null,
   "metadata": {},
   "outputs": [],
   "source": [
    "nrow(filter(data, data$lot_acres < 0))"
   ]
  },
  {
   "cell_type": "code",
   "execution_count": null,
   "metadata": {},
   "outputs": [],
   "source": [
    "nrow(filter(data, data$lot_acres == 0))"
   ]
  },
  {
   "cell_type": "markdown",
   "metadata": {},
   "source": [
    "A value of 0 could mean that the data was rounded to floor when between 0 and 1. "
   ]
  },
  {
   "cell_type": "code",
   "execution_count": null,
   "metadata": {},
   "outputs": [],
   "source": [
    "nrow(filter(data, data$lot_acres < 1 & data$lot_acres > 0))"
   ]
  },
  {
   "cell_type": "markdown",
   "metadata": {},
   "source": [
    "However, there are several lof of acres between 0 and 1, so a value of 0 needs to be imputated."
   ]
  },
  {
   "cell_type": "code",
   "execution_count": null,
   "metadata": {},
   "outputs": [],
   "source": [
    "lot_acres_na <- filter(data, is.na(data$lot_acres))"
   ]
  },
  {
   "cell_type": "code",
   "execution_count": null,
   "metadata": {},
   "outputs": [],
   "source": [
    "summary(filter(data, !is.na(lot_acres))$lot_acres)"
   ]
  },
  {
   "cell_type": "markdown",
   "metadata": {},
   "source": [
    "The mean looks too far from the median in this case and as we saw earlier, there are 2481 houses, on a total of 5000, that have a value between 0 and 1. We need to imputate 34 values, so we might want to use the median in this case."
   ]
  },
  {
   "cell_type": "code",
   "execution_count": null,
   "metadata": {},
   "outputs": [],
   "source": [
    "data$lot_acres[data$lot_acres == 0] <- 0.9400\n",
    "nrow(filter(data, data$lot_acres == 0))"
   ]
  },
  {
   "cell_type": "markdown",
   "metadata": {},
   "source": [
    "## Bedrooms"
   ]
  },
  {
   "cell_type": "markdown",
   "metadata": {},
   "source": [
    "Bedrooms shoud be a positive numeric value without NAs"
   ]
  },
  {
   "cell_type": "code",
   "execution_count": null,
   "metadata": {},
   "outputs": [],
   "source": [
    "class(data$bedrooms)\n",
    "nrow(filter(data, is.na(data$bedrooms)))\n",
    "nrow(filter(data, data$bedrooms < 0))"
   ]
  },
  {
   "cell_type": "markdown",
   "metadata": {},
   "source": [
    "## Garage"
   ]
  },
  {
   "cell_type": "markdown",
   "metadata": {},
   "source": [
    "The number of garages shoud be a positive numeric value without NAs"
   ]
  },
  {
   "cell_type": "code",
   "execution_count": null,
   "metadata": {},
   "outputs": [],
   "source": [
    "class(data$garage)\n",
    "nrow(filter(data, is.na(data$garage)))\n",
    "nrow(filter(data, data$garage < 0))"
   ]
  },
  {
   "cell_type": "markdown",
   "metadata": {},
   "source": [
    "## Cleaning square feet"
   ]
  },
  {
   "cell_type": "markdown",
   "metadata": {},
   "source": [
    "Square feet values should be positive numeric values without NAs."
   ]
  },
  {
   "cell_type": "code",
   "execution_count": null,
   "metadata": {},
   "outputs": [],
   "source": [
    "class(data$sqrt_ft)\n",
    "nrow(filter(data, is.na(data$sqrt_ft)))\n",
    "nrow(filter(data, data$sqrt_ft < 0))"
   ]
  },
  {
   "cell_type": "markdown",
   "metadata": {},
   "source": [
    "We will convert from character to numeric."
   ]
  },
  {
   "cell_type": "code",
   "execution_count": null,
   "metadata": {},
   "outputs": [],
   "source": [
    "data$sqrt_ft <- as.numeric(data$sqrt_ft)"
   ]
  },
  {
   "cell_type": "code",
   "execution_count": null,
   "metadata": {},
   "outputs": [],
   "source": [
    "nrow(filter(data, is.na(data$sqrt_ft)))"
   ]
  },
  {
   "cell_type": "markdown",
   "metadata": {},
   "source": [
    "We can think that there is a corellation between the sold price and the square feet."
   ]
  },
  {
   "cell_type": "code",
   "execution_count": null,
   "metadata": {},
   "outputs": [],
   "source": [
    "known_sqrt_ft <- subset(data, !is.na(data$sqrt_ft))\n",
    "random_subset <- data[-sample(1:nrow(data), 55), ]\n",
    "p_value <- cor(random_subset$sold_price, known_sqrt_ft$sqrt_ft)\n",
    "p_value"
   ]
  },
  {
   "cell_type": "markdown",
   "metadata": {},
   "source": [
    "A p_value of ~0.41 is relatively strong. We can then assume that there exist a correlation between the sold price and square feet. We will imputate with the closest sold price for every house  where we don't have the square feet data."
   ]
  },
  {
   "cell_type": "code",
   "execution_count": null,
   "metadata": {},
   "outputs": [],
   "source": [
    "sqrt_feet_na_subset <- filter(data, is.na(data$sqrt_ft))"
   ]
  },
  {
   "cell_type": "code",
   "execution_count": null,
   "metadata": {},
   "outputs": [],
   "source": [
    "for(i in 1:nrow(sqrt_feet_na_subset)){\n",
    "    closest_idx <- which.min(abs(data$sold_price-sqrt_feet_na_subset$sold_price[i]))\n",
    "    data$sqrt_ft[data$MLS == sqrt_feet_na_subset$MLS[i]] <- data[closest_idx, ]['sqrt_ft']\n",
    "}"
   ]
  },
  {
   "cell_type": "code",
   "execution_count": null,
   "metadata": {},
   "outputs": [],
   "source": [
    "nrow(filter(data, is.na(data$sqrt_ft)))"
   ]
  },
  {
   "cell_type": "markdown",
   "metadata": {},
   "source": [
    "## Writing cleaned data to CSV"
   ]
  },
  {
   "cell_type": "code",
   "execution_count": null,
   "metadata": {},
   "outputs": [],
   "source": [
    "filename <- \"clean.csv\"\n",
    "fullpath <- file.path(path, filename)\n",
    "data <- apply(data, 2, as.character)\n",
    "write.csv(data, fullpath)"
   ]
  }
 ],
 "metadata": {
  "kernelspec": {
   "display_name": "Python 3",
   "language": "python",
   "name": "python3"
  },
  "language_info": {
   "codemirror_mode": {
    "name": "ipython",
    "version": 3
   },
   "file_extension": ".py",
   "mimetype": "text/x-python",
   "name": "python",
   "nbconvert_exporter": "python",
   "pygments_lexer": "ipython3",
   "version": "3.7.7"
  }
 },
 "nbformat": 4,
 "nbformat_minor": 4
}
